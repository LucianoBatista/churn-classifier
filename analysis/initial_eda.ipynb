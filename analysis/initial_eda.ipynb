{
 "cells": [
  {
   "cell_type": "code",
   "execution_count": 1,
   "metadata": {},
   "outputs": [],
   "source": [
    "%load_ext lab_black"
   ]
  },
  {
   "cell_type": "code",
   "execution_count": 21,
   "metadata": {},
   "outputs": [],
   "source": [
    "import pandas as pd\n",
    "import numpy as np\n",
    "\n",
    "import seaborn as sns\n",
    "import matplotlib.pyplot as plt\n",
    "import matplotlib as mpl\n",
    "\n",
    "# quality of the image\n",
    "mpl.rcParams[\"figure.dpi\"] = 150"
   ]
  },
  {
   "cell_type": "code",
   "execution_count": 22,
   "metadata": {},
   "outputs": [
    {
     "data": {
      "text/plain": "      product_id category_lv0 category_lv1  category_lv2      category_lv3  \\\n0        px01237         mk38     mk38:072  mk38:072:149  mk38:072:149:218   \n1        px11510         mk38     mk38:072  mk38:072:149  mk38:072:149:218   \n2        px03782         mk38     mk38:072  mk38:072:019  mk38:072:019:066   \n3        px04092         mk38     mk38:072  mk38:072:019  mk38:072:019:054   \n4        px07429         mk38     mk38:072  mk38:072:078  mk38:072:078:182   \n...          ...          ...          ...           ...               ...   \n12654    px11965         mk35     mk35:072  mk35:072:122  mk35:072:122:182   \n12655    px05192         mk35     mk35:072  mk35:072:122  mk35:072:122:182   \n12656    px05391         mk38     mk38:107  mk38:107:357  mk38:107:357:182   \n12657    px00861         mk35     mk35:072  mk35:072:177  mk35:072:177:182   \n12658    px07271         mk05     mk05:072  mk05:072:177  mk05:072:177:182   \n\n                 category_lv4  \n0      mk38:072:149:218:04846  \n1      mk38:072:149:218:01337  \n2      mk38:072:019:066:02321  \n3      mk38:072:019:054:06035  \n4      mk38:072:078:182:07218  \n...                       ...  \n12654  mk35:072:122:182:00392  \n12655  mk35:072:122:182:02028  \n12656  mk38:107:357:182:08006  \n12657  mk35:072:177:182:03018  \n12658  mk05:072:177:182:04256  \n\n[12659 rows x 6 columns]",
      "text/html": "<div>\n<style scoped>\n    .dataframe tbody tr th:only-of-type {\n        vertical-align: middle;\n    }\n\n    .dataframe tbody tr th {\n        vertical-align: top;\n    }\n\n    .dataframe thead th {\n        text-align: right;\n    }\n</style>\n<table border=\"1\" class=\"dataframe\">\n  <thead>\n    <tr style=\"text-align: right;\">\n      <th></th>\n      <th>product_id</th>\n      <th>category_lv0</th>\n      <th>category_lv1</th>\n      <th>category_lv2</th>\n      <th>category_lv3</th>\n      <th>category_lv4</th>\n    </tr>\n  </thead>\n  <tbody>\n    <tr>\n      <th>0</th>\n      <td>px01237</td>\n      <td>mk38</td>\n      <td>mk38:072</td>\n      <td>mk38:072:149</td>\n      <td>mk38:072:149:218</td>\n      <td>mk38:072:149:218:04846</td>\n    </tr>\n    <tr>\n      <th>1</th>\n      <td>px11510</td>\n      <td>mk38</td>\n      <td>mk38:072</td>\n      <td>mk38:072:149</td>\n      <td>mk38:072:149:218</td>\n      <td>mk38:072:149:218:01337</td>\n    </tr>\n    <tr>\n      <th>2</th>\n      <td>px03782</td>\n      <td>mk38</td>\n      <td>mk38:072</td>\n      <td>mk38:072:019</td>\n      <td>mk38:072:019:066</td>\n      <td>mk38:072:019:066:02321</td>\n    </tr>\n    <tr>\n      <th>3</th>\n      <td>px04092</td>\n      <td>mk38</td>\n      <td>mk38:072</td>\n      <td>mk38:072:019</td>\n      <td>mk38:072:019:054</td>\n      <td>mk38:072:019:054:06035</td>\n    </tr>\n    <tr>\n      <th>4</th>\n      <td>px07429</td>\n      <td>mk38</td>\n      <td>mk38:072</td>\n      <td>mk38:072:078</td>\n      <td>mk38:072:078:182</td>\n      <td>mk38:072:078:182:07218</td>\n    </tr>\n    <tr>\n      <th>...</th>\n      <td>...</td>\n      <td>...</td>\n      <td>...</td>\n      <td>...</td>\n      <td>...</td>\n      <td>...</td>\n    </tr>\n    <tr>\n      <th>12654</th>\n      <td>px11965</td>\n      <td>mk35</td>\n      <td>mk35:072</td>\n      <td>mk35:072:122</td>\n      <td>mk35:072:122:182</td>\n      <td>mk35:072:122:182:00392</td>\n    </tr>\n    <tr>\n      <th>12655</th>\n      <td>px05192</td>\n      <td>mk35</td>\n      <td>mk35:072</td>\n      <td>mk35:072:122</td>\n      <td>mk35:072:122:182</td>\n      <td>mk35:072:122:182:02028</td>\n    </tr>\n    <tr>\n      <th>12656</th>\n      <td>px05391</td>\n      <td>mk38</td>\n      <td>mk38:107</td>\n      <td>mk38:107:357</td>\n      <td>mk38:107:357:182</td>\n      <td>mk38:107:357:182:08006</td>\n    </tr>\n    <tr>\n      <th>12657</th>\n      <td>px00861</td>\n      <td>mk35</td>\n      <td>mk35:072</td>\n      <td>mk35:072:177</td>\n      <td>mk35:072:177:182</td>\n      <td>mk35:072:177:182:03018</td>\n    </tr>\n    <tr>\n      <th>12658</th>\n      <td>px07271</td>\n      <td>mk05</td>\n      <td>mk05:072</td>\n      <td>mk05:072:177</td>\n      <td>mk05:072:177:182</td>\n      <td>mk05:072:177:182:04256</td>\n    </tr>\n  </tbody>\n</table>\n<p>12659 rows × 6 columns</p>\n</div>"
     },
     "execution_count": 22,
     "metadata": {},
     "output_type": "execute_result"
    }
   ],
   "source": [
    "# data\n",
    "client_tr = pd.read_csv(\"../data/client.train.csv\", parse_dates=[\"birthdate\"])\n",
    "client_te = pd.read_csv(\"../data/client.test.csv\", parse_dates=[\"birthdate\"])\n",
    "client_ch = pd.read_csv(\"../data/client.challenge.csv\", parse_dates=[\"birthdate\"])\n",
    "orders = pd.read_csv(\"../data/orders.csv\", parse_dates=[\"datetime\"])\n",
    "product = pd.read_csv(\"../data/product.csv\")\n",
    "\n",
    "product"
   ]
  },
  {
   "cell_type": "code",
   "execution_count": 23,
   "metadata": {},
   "outputs": [
    {
     "data": {
      "text/plain": "23292"
     },
     "execution_count": 23,
     "metadata": {},
     "output_type": "execute_result"
    }
   ],
   "source": [
    "client_tr[\"client_id\"].unique().size"
   ]
  },
  {
   "cell_type": "code",
   "execution_count": 24,
   "metadata": {},
   "outputs": [
    {
     "data": {
      "text/plain": "      client_id  birthdate state gender  is_churn\n0       cx05072 1972-03-22  st25    cg2     False\n1       cx03836 1966-08-14  st15    cg1     False\n2       cx08472 1954-08-07  st15    cg1     False\n3       cx12946 1955-11-16  st15    cg1     False\n4       cx19045 1958-10-25  st15    cg2     False\n...         ...        ...   ...    ...       ...\n23287   cx05312 1981-08-29  st18    cg1     False\n23288   cx02434 1997-03-15  st04    cg2     False\n23289   cx16024 1950-10-09  st11    cg1     False\n23290   cx11285 1976-07-03  st11    cg2     False\n23291   cx00861 1980-06-01  st21    cg2     False\n\n[23292 rows x 5 columns]",
      "text/html": "<div>\n<style scoped>\n    .dataframe tbody tr th:only-of-type {\n        vertical-align: middle;\n    }\n\n    .dataframe tbody tr th {\n        vertical-align: top;\n    }\n\n    .dataframe thead th {\n        text-align: right;\n    }\n</style>\n<table border=\"1\" class=\"dataframe\">\n  <thead>\n    <tr style=\"text-align: right;\">\n      <th></th>\n      <th>client_id</th>\n      <th>birthdate</th>\n      <th>state</th>\n      <th>gender</th>\n      <th>is_churn</th>\n    </tr>\n  </thead>\n  <tbody>\n    <tr>\n      <th>0</th>\n      <td>cx05072</td>\n      <td>1972-03-22</td>\n      <td>st25</td>\n      <td>cg2</td>\n      <td>False</td>\n    </tr>\n    <tr>\n      <th>1</th>\n      <td>cx03836</td>\n      <td>1966-08-14</td>\n      <td>st15</td>\n      <td>cg1</td>\n      <td>False</td>\n    </tr>\n    <tr>\n      <th>2</th>\n      <td>cx08472</td>\n      <td>1954-08-07</td>\n      <td>st15</td>\n      <td>cg1</td>\n      <td>False</td>\n    </tr>\n    <tr>\n      <th>3</th>\n      <td>cx12946</td>\n      <td>1955-11-16</td>\n      <td>st15</td>\n      <td>cg1</td>\n      <td>False</td>\n    </tr>\n    <tr>\n      <th>4</th>\n      <td>cx19045</td>\n      <td>1958-10-25</td>\n      <td>st15</td>\n      <td>cg2</td>\n      <td>False</td>\n    </tr>\n    <tr>\n      <th>...</th>\n      <td>...</td>\n      <td>...</td>\n      <td>...</td>\n      <td>...</td>\n      <td>...</td>\n    </tr>\n    <tr>\n      <th>23287</th>\n      <td>cx05312</td>\n      <td>1981-08-29</td>\n      <td>st18</td>\n      <td>cg1</td>\n      <td>False</td>\n    </tr>\n    <tr>\n      <th>23288</th>\n      <td>cx02434</td>\n      <td>1997-03-15</td>\n      <td>st04</td>\n      <td>cg2</td>\n      <td>False</td>\n    </tr>\n    <tr>\n      <th>23289</th>\n      <td>cx16024</td>\n      <td>1950-10-09</td>\n      <td>st11</td>\n      <td>cg1</td>\n      <td>False</td>\n    </tr>\n    <tr>\n      <th>23290</th>\n      <td>cx11285</td>\n      <td>1976-07-03</td>\n      <td>st11</td>\n      <td>cg2</td>\n      <td>False</td>\n    </tr>\n    <tr>\n      <th>23291</th>\n      <td>cx00861</td>\n      <td>1980-06-01</td>\n      <td>st21</td>\n      <td>cg2</td>\n      <td>False</td>\n    </tr>\n  </tbody>\n</table>\n<p>23292 rows × 5 columns</p>\n</div>"
     },
     "execution_count": 24,
     "metadata": {},
     "output_type": "execute_result"
    }
   ],
   "source": [
    "client_tr"
   ]
  },
  {
   "cell_type": "code",
   "execution_count": 25,
   "metadata": {},
   "outputs": [
    {
     "data": {
      "text/plain": "        order_id client_id product_id            datetime  units   price  \\\n0       ox008433   cx05072    px04611 2019-10-07 15:20:00    1.0   49.90   \n1       ox070389   cx05072    px12305 2019-10-11 17:42:00    1.0   69.90   \n2       ox061137   cx06840    px07033 2019-01-19 13:09:00    1.0   35.90   \n3       ox061137   cx06840    px05992 2019-01-19 13:09:00    3.0   35.90   \n4       ox038612   cx06840    px10040 2019-04-18 14:36:00    1.0   39.00   \n...          ...       ...        ...                 ...    ...     ...   \n168467  ox081422   cx15796    px08541 2019-06-25 11:50:00    1.0  246.50   \n168468  ox081422   cx15796    px05166 2019-06-25 11:50:00    1.0  652.50   \n168469  ox128219   cx15796    px12043 2019-09-06 11:45:00    2.0   15.00   \n168470  ox126589   cx15796    px12043 2019-09-07 04:39:00    1.0   15.00   \n168471  ox079633   cx15796    px07618 2019-11-19 07:53:00    1.0  263.42   \n\n       payment_method  installments  delivery_days delivery_state device  \\\n0                pm05           NaN            NaN           st07    dv9   \n1                pm05           NaN            NaN           st07    dv9   \n2                pm05           NaN            NaN           st07    dv9   \n3                pm05           NaN            NaN           st07    dv9   \n4                pm05           NaN            NaN           st07    dv9   \n...               ...           ...            ...            ...    ...   \n168467           pm14          10.0           21.0           st01    dv5   \n168468           pm14          10.0           21.0           st01    dv5   \n168469           pm05           NaN            NaN           st07    dv9   \n168470           pm10           1.0            0.0           st01    dv3   \n168471           pm10           1.0            2.0           st01    dv3   \n\n       source  \n0        sc08  \n1        sc08  \n2        sc08  \n3        sc08  \n4        sc08  \n...       ...  \n168467   sc11  \n168468   sc11  \n168469   sc08  \n168470   sc12  \n168471   sc12  \n\n[168472 rows x 12 columns]",
      "text/html": "<div>\n<style scoped>\n    .dataframe tbody tr th:only-of-type {\n        vertical-align: middle;\n    }\n\n    .dataframe tbody tr th {\n        vertical-align: top;\n    }\n\n    .dataframe thead th {\n        text-align: right;\n    }\n</style>\n<table border=\"1\" class=\"dataframe\">\n  <thead>\n    <tr style=\"text-align: right;\">\n      <th></th>\n      <th>order_id</th>\n      <th>client_id</th>\n      <th>product_id</th>\n      <th>datetime</th>\n      <th>units</th>\n      <th>price</th>\n      <th>payment_method</th>\n      <th>installments</th>\n      <th>delivery_days</th>\n      <th>delivery_state</th>\n      <th>device</th>\n      <th>source</th>\n    </tr>\n  </thead>\n  <tbody>\n    <tr>\n      <th>0</th>\n      <td>ox008433</td>\n      <td>cx05072</td>\n      <td>px04611</td>\n      <td>2019-10-07 15:20:00</td>\n      <td>1.0</td>\n      <td>49.90</td>\n      <td>pm05</td>\n      <td>NaN</td>\n      <td>NaN</td>\n      <td>st07</td>\n      <td>dv9</td>\n      <td>sc08</td>\n    </tr>\n    <tr>\n      <th>1</th>\n      <td>ox070389</td>\n      <td>cx05072</td>\n      <td>px12305</td>\n      <td>2019-10-11 17:42:00</td>\n      <td>1.0</td>\n      <td>69.90</td>\n      <td>pm05</td>\n      <td>NaN</td>\n      <td>NaN</td>\n      <td>st07</td>\n      <td>dv9</td>\n      <td>sc08</td>\n    </tr>\n    <tr>\n      <th>2</th>\n      <td>ox061137</td>\n      <td>cx06840</td>\n      <td>px07033</td>\n      <td>2019-01-19 13:09:00</td>\n      <td>1.0</td>\n      <td>35.90</td>\n      <td>pm05</td>\n      <td>NaN</td>\n      <td>NaN</td>\n      <td>st07</td>\n      <td>dv9</td>\n      <td>sc08</td>\n    </tr>\n    <tr>\n      <th>3</th>\n      <td>ox061137</td>\n      <td>cx06840</td>\n      <td>px05992</td>\n      <td>2019-01-19 13:09:00</td>\n      <td>3.0</td>\n      <td>35.90</td>\n      <td>pm05</td>\n      <td>NaN</td>\n      <td>NaN</td>\n      <td>st07</td>\n      <td>dv9</td>\n      <td>sc08</td>\n    </tr>\n    <tr>\n      <th>4</th>\n      <td>ox038612</td>\n      <td>cx06840</td>\n      <td>px10040</td>\n      <td>2019-04-18 14:36:00</td>\n      <td>1.0</td>\n      <td>39.00</td>\n      <td>pm05</td>\n      <td>NaN</td>\n      <td>NaN</td>\n      <td>st07</td>\n      <td>dv9</td>\n      <td>sc08</td>\n    </tr>\n    <tr>\n      <th>...</th>\n      <td>...</td>\n      <td>...</td>\n      <td>...</td>\n      <td>...</td>\n      <td>...</td>\n      <td>...</td>\n      <td>...</td>\n      <td>...</td>\n      <td>...</td>\n      <td>...</td>\n      <td>...</td>\n      <td>...</td>\n    </tr>\n    <tr>\n      <th>168467</th>\n      <td>ox081422</td>\n      <td>cx15796</td>\n      <td>px08541</td>\n      <td>2019-06-25 11:50:00</td>\n      <td>1.0</td>\n      <td>246.50</td>\n      <td>pm14</td>\n      <td>10.0</td>\n      <td>21.0</td>\n      <td>st01</td>\n      <td>dv5</td>\n      <td>sc11</td>\n    </tr>\n    <tr>\n      <th>168468</th>\n      <td>ox081422</td>\n      <td>cx15796</td>\n      <td>px05166</td>\n      <td>2019-06-25 11:50:00</td>\n      <td>1.0</td>\n      <td>652.50</td>\n      <td>pm14</td>\n      <td>10.0</td>\n      <td>21.0</td>\n      <td>st01</td>\n      <td>dv5</td>\n      <td>sc11</td>\n    </tr>\n    <tr>\n      <th>168469</th>\n      <td>ox128219</td>\n      <td>cx15796</td>\n      <td>px12043</td>\n      <td>2019-09-06 11:45:00</td>\n      <td>2.0</td>\n      <td>15.00</td>\n      <td>pm05</td>\n      <td>NaN</td>\n      <td>NaN</td>\n      <td>st07</td>\n      <td>dv9</td>\n      <td>sc08</td>\n    </tr>\n    <tr>\n      <th>168470</th>\n      <td>ox126589</td>\n      <td>cx15796</td>\n      <td>px12043</td>\n      <td>2019-09-07 04:39:00</td>\n      <td>1.0</td>\n      <td>15.00</td>\n      <td>pm10</td>\n      <td>1.0</td>\n      <td>0.0</td>\n      <td>st01</td>\n      <td>dv3</td>\n      <td>sc12</td>\n    </tr>\n    <tr>\n      <th>168471</th>\n      <td>ox079633</td>\n      <td>cx15796</td>\n      <td>px07618</td>\n      <td>2019-11-19 07:53:00</td>\n      <td>1.0</td>\n      <td>263.42</td>\n      <td>pm10</td>\n      <td>1.0</td>\n      <td>2.0</td>\n      <td>st01</td>\n      <td>dv3</td>\n      <td>sc12</td>\n    </tr>\n  </tbody>\n</table>\n<p>168472 rows × 12 columns</p>\n</div>"
     },
     "execution_count": 25,
     "metadata": {},
     "output_type": "execute_result"
    }
   ],
   "source": [
    "orders"
   ]
  },
  {
   "cell_type": "code",
   "execution_count": 26,
   "metadata": {},
   "outputs": [],
   "source": [
    "# join orders + product\n",
    "orders_product_df = pd.merge(left=orders, right=product, on=\"product_id\", how=\"left\")"
   ]
  },
  {
   "cell_type": "code",
   "execution_count": 27,
   "metadata": {},
   "outputs": [
    {
     "data": {
      "text/plain": "Index(['order_id', 'client_id', 'product_id', 'datetime', 'units', 'price',\n       'payment_method', 'installments', 'delivery_days', 'delivery_state',\n       'device', 'source', 'category_lv0', 'category_lv1', 'category_lv2',\n       'category_lv3', 'category_lv4'],\n      dtype='object')"
     },
     "execution_count": 27,
     "metadata": {},
     "output_type": "execute_result"
    }
   ],
   "source": [
    "orders_product_df.columns"
   ]
  },
  {
   "cell_type": "code",
   "execution_count": 28,
   "metadata": {},
   "outputs": [
    {
     "data": {
      "text/plain": "   order_id client_id product_id            datetime  units  price  \\\n0  ox008433   cx05072    px04611 2019-10-07 15:20:00    1.0   49.9   \n1  ox070389   cx05072    px12305 2019-10-11 17:42:00    1.0   69.9   \n\n  payment_method  installments  delivery_days delivery_state device source  \\\n0           pm05           NaN            NaN           st07    dv9   sc08   \n1           pm05           NaN            NaN           st07    dv9   sc08   \n\n  category_lv0 category_lv1  category_lv2      category_lv3  \\\n0         mk04     mk04:128  mk04:128:103  mk04:128:103:103   \n1         mk04     mk04:292  mk04:292:246  mk04:292:246:103   \n\n             category_lv4  \n0  mk04:128:103:103:03294  \n1  mk04:292:246:103:04338  ",
      "text/html": "<div>\n<style scoped>\n    .dataframe tbody tr th:only-of-type {\n        vertical-align: middle;\n    }\n\n    .dataframe tbody tr th {\n        vertical-align: top;\n    }\n\n    .dataframe thead th {\n        text-align: right;\n    }\n</style>\n<table border=\"1\" class=\"dataframe\">\n  <thead>\n    <tr style=\"text-align: right;\">\n      <th></th>\n      <th>order_id</th>\n      <th>client_id</th>\n      <th>product_id</th>\n      <th>datetime</th>\n      <th>units</th>\n      <th>price</th>\n      <th>payment_method</th>\n      <th>installments</th>\n      <th>delivery_days</th>\n      <th>delivery_state</th>\n      <th>device</th>\n      <th>source</th>\n      <th>category_lv0</th>\n      <th>category_lv1</th>\n      <th>category_lv2</th>\n      <th>category_lv3</th>\n      <th>category_lv4</th>\n    </tr>\n  </thead>\n  <tbody>\n    <tr>\n      <th>0</th>\n      <td>ox008433</td>\n      <td>cx05072</td>\n      <td>px04611</td>\n      <td>2019-10-07 15:20:00</td>\n      <td>1.0</td>\n      <td>49.9</td>\n      <td>pm05</td>\n      <td>NaN</td>\n      <td>NaN</td>\n      <td>st07</td>\n      <td>dv9</td>\n      <td>sc08</td>\n      <td>mk04</td>\n      <td>mk04:128</td>\n      <td>mk04:128:103</td>\n      <td>mk04:128:103:103</td>\n      <td>mk04:128:103:103:03294</td>\n    </tr>\n    <tr>\n      <th>1</th>\n      <td>ox070389</td>\n      <td>cx05072</td>\n      <td>px12305</td>\n      <td>2019-10-11 17:42:00</td>\n      <td>1.0</td>\n      <td>69.9</td>\n      <td>pm05</td>\n      <td>NaN</td>\n      <td>NaN</td>\n      <td>st07</td>\n      <td>dv9</td>\n      <td>sc08</td>\n      <td>mk04</td>\n      <td>mk04:292</td>\n      <td>mk04:292:246</td>\n      <td>mk04:292:246:103</td>\n      <td>mk04:292:246:103:04338</td>\n    </tr>\n  </tbody>\n</table>\n</div>"
     },
     "execution_count": 28,
     "metadata": {},
     "output_type": "execute_result"
    }
   ],
   "source": [
    "orders_product_df[orders_product_df[\"client_id\"] == \"cx05072\"]"
   ]
  },
  {
   "cell_type": "code",
   "execution_count": 29,
   "metadata": {},
   "outputs": [
    {
     "data": {
      "text/plain": "      product_id category_lv0 category_lv1  category_lv2      category_lv3  \\\n0        px01237         mk38     mk38:072  mk38:072:149  mk38:072:149:218   \n1        px11510         mk38     mk38:072  mk38:072:149  mk38:072:149:218   \n2        px03782         mk38     mk38:072  mk38:072:019  mk38:072:019:066   \n3        px04092         mk38     mk38:072  mk38:072:019  mk38:072:019:054   \n4        px07429         mk38     mk38:072  mk38:072:078  mk38:072:078:182   \n...          ...          ...          ...           ...               ...   \n12654    px11965         mk35     mk35:072  mk35:072:122  mk35:072:122:182   \n12655    px05192         mk35     mk35:072  mk35:072:122  mk35:072:122:182   \n12656    px05391         mk38     mk38:107  mk38:107:357  mk38:107:357:182   \n12657    px00861         mk35     mk35:072  mk35:072:177  mk35:072:177:182   \n12658    px07271         mk05     mk05:072  mk05:072:177  mk05:072:177:182   \n\n                 category_lv4  \n0      mk38:072:149:218:04846  \n1      mk38:072:149:218:01337  \n2      mk38:072:019:066:02321  \n3      mk38:072:019:054:06035  \n4      mk38:072:078:182:07218  \n...                       ...  \n12654  mk35:072:122:182:00392  \n12655  mk35:072:122:182:02028  \n12656  mk38:107:357:182:08006  \n12657  mk35:072:177:182:03018  \n12658  mk05:072:177:182:04256  \n\n[12659 rows x 6 columns]",
      "text/html": "<div>\n<style scoped>\n    .dataframe tbody tr th:only-of-type {\n        vertical-align: middle;\n    }\n\n    .dataframe tbody tr th {\n        vertical-align: top;\n    }\n\n    .dataframe thead th {\n        text-align: right;\n    }\n</style>\n<table border=\"1\" class=\"dataframe\">\n  <thead>\n    <tr style=\"text-align: right;\">\n      <th></th>\n      <th>product_id</th>\n      <th>category_lv0</th>\n      <th>category_lv1</th>\n      <th>category_lv2</th>\n      <th>category_lv3</th>\n      <th>category_lv4</th>\n    </tr>\n  </thead>\n  <tbody>\n    <tr>\n      <th>0</th>\n      <td>px01237</td>\n      <td>mk38</td>\n      <td>mk38:072</td>\n      <td>mk38:072:149</td>\n      <td>mk38:072:149:218</td>\n      <td>mk38:072:149:218:04846</td>\n    </tr>\n    <tr>\n      <th>1</th>\n      <td>px11510</td>\n      <td>mk38</td>\n      <td>mk38:072</td>\n      <td>mk38:072:149</td>\n      <td>mk38:072:149:218</td>\n      <td>mk38:072:149:218:01337</td>\n    </tr>\n    <tr>\n      <th>2</th>\n      <td>px03782</td>\n      <td>mk38</td>\n      <td>mk38:072</td>\n      <td>mk38:072:019</td>\n      <td>mk38:072:019:066</td>\n      <td>mk38:072:019:066:02321</td>\n    </tr>\n    <tr>\n      <th>3</th>\n      <td>px04092</td>\n      <td>mk38</td>\n      <td>mk38:072</td>\n      <td>mk38:072:019</td>\n      <td>mk38:072:019:054</td>\n      <td>mk38:072:019:054:06035</td>\n    </tr>\n    <tr>\n      <th>4</th>\n      <td>px07429</td>\n      <td>mk38</td>\n      <td>mk38:072</td>\n      <td>mk38:072:078</td>\n      <td>mk38:072:078:182</td>\n      <td>mk38:072:078:182:07218</td>\n    </tr>\n    <tr>\n      <th>...</th>\n      <td>...</td>\n      <td>...</td>\n      <td>...</td>\n      <td>...</td>\n      <td>...</td>\n      <td>...</td>\n    </tr>\n    <tr>\n      <th>12654</th>\n      <td>px11965</td>\n      <td>mk35</td>\n      <td>mk35:072</td>\n      <td>mk35:072:122</td>\n      <td>mk35:072:122:182</td>\n      <td>mk35:072:122:182:00392</td>\n    </tr>\n    <tr>\n      <th>12655</th>\n      <td>px05192</td>\n      <td>mk35</td>\n      <td>mk35:072</td>\n      <td>mk35:072:122</td>\n      <td>mk35:072:122:182</td>\n      <td>mk35:072:122:182:02028</td>\n    </tr>\n    <tr>\n      <th>12656</th>\n      <td>px05391</td>\n      <td>mk38</td>\n      <td>mk38:107</td>\n      <td>mk38:107:357</td>\n      <td>mk38:107:357:182</td>\n      <td>mk38:107:357:182:08006</td>\n    </tr>\n    <tr>\n      <th>12657</th>\n      <td>px00861</td>\n      <td>mk35</td>\n      <td>mk35:072</td>\n      <td>mk35:072:177</td>\n      <td>mk35:072:177:182</td>\n      <td>mk35:072:177:182:03018</td>\n    </tr>\n    <tr>\n      <th>12658</th>\n      <td>px07271</td>\n      <td>mk05</td>\n      <td>mk05:072</td>\n      <td>mk05:072:177</td>\n      <td>mk05:072:177:182</td>\n      <td>mk05:072:177:182:04256</td>\n    </tr>\n  </tbody>\n</table>\n<p>12659 rows × 6 columns</p>\n</div>"
     },
     "execution_count": 29,
     "metadata": {},
     "output_type": "execute_result"
    }
   ],
   "source": [
    "product"
   ]
  },
  {
   "cell_type": "code",
   "execution_count": 30,
   "metadata": {},
   "outputs": [
    {
     "data": {
      "text/plain": "      product_id category_lv0 category_lv1  category_lv2      category_lv3  \\\n0        px01237         mk38     mk38:072  mk38:072:149  mk38:072:149:218   \n1        px11510         mk38     mk38:072  mk38:072:149  mk38:072:149:218   \n2        px03782         mk38     mk38:072  mk38:072:019  mk38:072:019:066   \n3        px04092         mk38     mk38:072  mk38:072:019  mk38:072:019:054   \n4        px07429         mk38     mk38:072  mk38:072:078  mk38:072:078:182   \n...          ...          ...          ...           ...               ...   \n12654    px11965         mk35     mk35:072  mk35:072:122  mk35:072:122:182   \n12655    px05192         mk35     mk35:072  mk35:072:122  mk35:072:122:182   \n12656    px05391         mk38     mk38:107  mk38:107:357  mk38:107:357:182   \n12657    px00861         mk35     mk35:072  mk35:072:177  mk35:072:177:182   \n12658    px07271         mk05     mk05:072  mk05:072:177  mk05:072:177:182   \n\n                 category_lv4  \n0      mk38:072:149:218:04846  \n1      mk38:072:149:218:01337  \n2      mk38:072:019:066:02321  \n3      mk38:072:019:054:06035  \n4      mk38:072:078:182:07218  \n...                       ...  \n12654  mk35:072:122:182:00392  \n12655  mk35:072:122:182:02028  \n12656  mk38:107:357:182:08006  \n12657  mk35:072:177:182:03018  \n12658  mk05:072:177:182:04256  \n\n[12659 rows x 6 columns]",
      "text/html": "<div>\n<style scoped>\n    .dataframe tbody tr th:only-of-type {\n        vertical-align: middle;\n    }\n\n    .dataframe tbody tr th {\n        vertical-align: top;\n    }\n\n    .dataframe thead th {\n        text-align: right;\n    }\n</style>\n<table border=\"1\" class=\"dataframe\">\n  <thead>\n    <tr style=\"text-align: right;\">\n      <th></th>\n      <th>product_id</th>\n      <th>category_lv0</th>\n      <th>category_lv1</th>\n      <th>category_lv2</th>\n      <th>category_lv3</th>\n      <th>category_lv4</th>\n    </tr>\n  </thead>\n  <tbody>\n    <tr>\n      <th>0</th>\n      <td>px01237</td>\n      <td>mk38</td>\n      <td>mk38:072</td>\n      <td>mk38:072:149</td>\n      <td>mk38:072:149:218</td>\n      <td>mk38:072:149:218:04846</td>\n    </tr>\n    <tr>\n      <th>1</th>\n      <td>px11510</td>\n      <td>mk38</td>\n      <td>mk38:072</td>\n      <td>mk38:072:149</td>\n      <td>mk38:072:149:218</td>\n      <td>mk38:072:149:218:01337</td>\n    </tr>\n    <tr>\n      <th>2</th>\n      <td>px03782</td>\n      <td>mk38</td>\n      <td>mk38:072</td>\n      <td>mk38:072:019</td>\n      <td>mk38:072:019:066</td>\n      <td>mk38:072:019:066:02321</td>\n    </tr>\n    <tr>\n      <th>3</th>\n      <td>px04092</td>\n      <td>mk38</td>\n      <td>mk38:072</td>\n      <td>mk38:072:019</td>\n      <td>mk38:072:019:054</td>\n      <td>mk38:072:019:054:06035</td>\n    </tr>\n    <tr>\n      <th>4</th>\n      <td>px07429</td>\n      <td>mk38</td>\n      <td>mk38:072</td>\n      <td>mk38:072:078</td>\n      <td>mk38:072:078:182</td>\n      <td>mk38:072:078:182:07218</td>\n    </tr>\n    <tr>\n      <th>...</th>\n      <td>...</td>\n      <td>...</td>\n      <td>...</td>\n      <td>...</td>\n      <td>...</td>\n      <td>...</td>\n    </tr>\n    <tr>\n      <th>12654</th>\n      <td>px11965</td>\n      <td>mk35</td>\n      <td>mk35:072</td>\n      <td>mk35:072:122</td>\n      <td>mk35:072:122:182</td>\n      <td>mk35:072:122:182:00392</td>\n    </tr>\n    <tr>\n      <th>12655</th>\n      <td>px05192</td>\n      <td>mk35</td>\n      <td>mk35:072</td>\n      <td>mk35:072:122</td>\n      <td>mk35:072:122:182</td>\n      <td>mk35:072:122:182:02028</td>\n    </tr>\n    <tr>\n      <th>12656</th>\n      <td>px05391</td>\n      <td>mk38</td>\n      <td>mk38:107</td>\n      <td>mk38:107:357</td>\n      <td>mk38:107:357:182</td>\n      <td>mk38:107:357:182:08006</td>\n    </tr>\n    <tr>\n      <th>12657</th>\n      <td>px00861</td>\n      <td>mk35</td>\n      <td>mk35:072</td>\n      <td>mk35:072:177</td>\n      <td>mk35:072:177:182</td>\n      <td>mk35:072:177:182:03018</td>\n    </tr>\n    <tr>\n      <th>12658</th>\n      <td>px07271</td>\n      <td>mk05</td>\n      <td>mk05:072</td>\n      <td>mk05:072:177</td>\n      <td>mk05:072:177:182</td>\n      <td>mk05:072:177:182:04256</td>\n    </tr>\n  </tbody>\n</table>\n<p>12659 rows × 6 columns</p>\n</div>"
     },
     "execution_count": 30,
     "metadata": {},
     "output_type": "execute_result"
    }
   ],
   "source": [
    "product.drop_duplicates()\n",
    "# sem duplicates"
   ]
  },
  {
   "cell_type": "code",
   "execution_count": 31,
   "metadata": {},
   "outputs": [
    {
     "data": {
      "text/plain": "product_id      False\ncategory_lv0    False\ncategory_lv1    False\ncategory_lv2    False\ncategory_lv3    False\ncategory_lv4    False\ndtype: bool"
     },
     "execution_count": 31,
     "metadata": {},
     "output_type": "execute_result"
    }
   ],
   "source": [
    "product.isnull().sum() > 0\n",
    "# sem missing"
   ]
  },
  {
   "cell_type": "code",
   "execution_count": 32,
   "metadata": {
    "tags": []
   },
   "outputs": [
    {
     "data": {
      "text/plain": "   category_lv0     0\n0          mk17  1273\n1          mk04  1229\n2          mk29   902\n3          mk22   859\n4          mk03   680\n5          mk21   627\n6          mk16   562\n7          mk10   459\n8          mk06   402\n9          mk25   386\n10         mk28   379\n11         mk01   377\n12         mk37   359\n13         mk40   350\n14         mk12   294\n15         mk42   287\n16         mk07   281\n17         mk20   277\n18         mk05   272\n19         mk35   270\n20         mk50   268\n21         mk44   226\n22         mk31   208\n23         mk23   191\n24         mk51   157\n25         mk11   145\n26         mk30   133\n27         mk38   131\n28         mk27   129\n29         mk52   107\n30         mk48    81\n31         mk13    77\n32         mk08    54\n33         mk36    50\n34         mk39    49\n35         mk09    29\n36         mk41    24\n37         mk02    18\n38         mk14    13\n39         mk34    12\n40         mk45     7\n41         mk15     5\n42         mk24     4\n43         mk18     3\n44         mk33     3\n45         mk43     2\n46         mk46     2\n47         mk47     2\n48         mk19     1\n49         mk26     1\n50         mk49     1\n51         mk32     1",
      "text/html": "<div>\n<style scoped>\n    .dataframe tbody tr th:only-of-type {\n        vertical-align: middle;\n    }\n\n    .dataframe tbody tr th {\n        vertical-align: top;\n    }\n\n    .dataframe thead th {\n        text-align: right;\n    }\n</style>\n<table border=\"1\" class=\"dataframe\">\n  <thead>\n    <tr style=\"text-align: right;\">\n      <th></th>\n      <th>category_lv0</th>\n      <th>0</th>\n    </tr>\n  </thead>\n  <tbody>\n    <tr>\n      <th>0</th>\n      <td>mk17</td>\n      <td>1273</td>\n    </tr>\n    <tr>\n      <th>1</th>\n      <td>mk04</td>\n      <td>1229</td>\n    </tr>\n    <tr>\n      <th>2</th>\n      <td>mk29</td>\n      <td>902</td>\n    </tr>\n    <tr>\n      <th>3</th>\n      <td>mk22</td>\n      <td>859</td>\n    </tr>\n    <tr>\n      <th>4</th>\n      <td>mk03</td>\n      <td>680</td>\n    </tr>\n    <tr>\n      <th>5</th>\n      <td>mk21</td>\n      <td>627</td>\n    </tr>\n    <tr>\n      <th>6</th>\n      <td>mk16</td>\n      <td>562</td>\n    </tr>\n    <tr>\n      <th>7</th>\n      <td>mk10</td>\n      <td>459</td>\n    </tr>\n    <tr>\n      <th>8</th>\n      <td>mk06</td>\n      <td>402</td>\n    </tr>\n    <tr>\n      <th>9</th>\n      <td>mk25</td>\n      <td>386</td>\n    </tr>\n    <tr>\n      <th>10</th>\n      <td>mk28</td>\n      <td>379</td>\n    </tr>\n    <tr>\n      <th>11</th>\n      <td>mk01</td>\n      <td>377</td>\n    </tr>\n    <tr>\n      <th>12</th>\n      <td>mk37</td>\n      <td>359</td>\n    </tr>\n    <tr>\n      <th>13</th>\n      <td>mk40</td>\n      <td>350</td>\n    </tr>\n    <tr>\n      <th>14</th>\n      <td>mk12</td>\n      <td>294</td>\n    </tr>\n    <tr>\n      <th>15</th>\n      <td>mk42</td>\n      <td>287</td>\n    </tr>\n    <tr>\n      <th>16</th>\n      <td>mk07</td>\n      <td>281</td>\n    </tr>\n    <tr>\n      <th>17</th>\n      <td>mk20</td>\n      <td>277</td>\n    </tr>\n    <tr>\n      <th>18</th>\n      <td>mk05</td>\n      <td>272</td>\n    </tr>\n    <tr>\n      <th>19</th>\n      <td>mk35</td>\n      <td>270</td>\n    </tr>\n    <tr>\n      <th>20</th>\n      <td>mk50</td>\n      <td>268</td>\n    </tr>\n    <tr>\n      <th>21</th>\n      <td>mk44</td>\n      <td>226</td>\n    </tr>\n    <tr>\n      <th>22</th>\n      <td>mk31</td>\n      <td>208</td>\n    </tr>\n    <tr>\n      <th>23</th>\n      <td>mk23</td>\n      <td>191</td>\n    </tr>\n    <tr>\n      <th>24</th>\n      <td>mk51</td>\n      <td>157</td>\n    </tr>\n    <tr>\n      <th>25</th>\n      <td>mk11</td>\n      <td>145</td>\n    </tr>\n    <tr>\n      <th>26</th>\n      <td>mk30</td>\n      <td>133</td>\n    </tr>\n    <tr>\n      <th>27</th>\n      <td>mk38</td>\n      <td>131</td>\n    </tr>\n    <tr>\n      <th>28</th>\n      <td>mk27</td>\n      <td>129</td>\n    </tr>\n    <tr>\n      <th>29</th>\n      <td>mk52</td>\n      <td>107</td>\n    </tr>\n    <tr>\n      <th>30</th>\n      <td>mk48</td>\n      <td>81</td>\n    </tr>\n    <tr>\n      <th>31</th>\n      <td>mk13</td>\n      <td>77</td>\n    </tr>\n    <tr>\n      <th>32</th>\n      <td>mk08</td>\n      <td>54</td>\n    </tr>\n    <tr>\n      <th>33</th>\n      <td>mk36</td>\n      <td>50</td>\n    </tr>\n    <tr>\n      <th>34</th>\n      <td>mk39</td>\n      <td>49</td>\n    </tr>\n    <tr>\n      <th>35</th>\n      <td>mk09</td>\n      <td>29</td>\n    </tr>\n    <tr>\n      <th>36</th>\n      <td>mk41</td>\n      <td>24</td>\n    </tr>\n    <tr>\n      <th>37</th>\n      <td>mk02</td>\n      <td>18</td>\n    </tr>\n    <tr>\n      <th>38</th>\n      <td>mk14</td>\n      <td>13</td>\n    </tr>\n    <tr>\n      <th>39</th>\n      <td>mk34</td>\n      <td>12</td>\n    </tr>\n    <tr>\n      <th>40</th>\n      <td>mk45</td>\n      <td>7</td>\n    </tr>\n    <tr>\n      <th>41</th>\n      <td>mk15</td>\n      <td>5</td>\n    </tr>\n    <tr>\n      <th>42</th>\n      <td>mk24</td>\n      <td>4</td>\n    </tr>\n    <tr>\n      <th>43</th>\n      <td>mk18</td>\n      <td>3</td>\n    </tr>\n    <tr>\n      <th>44</th>\n      <td>mk33</td>\n      <td>3</td>\n    </tr>\n    <tr>\n      <th>45</th>\n      <td>mk43</td>\n      <td>2</td>\n    </tr>\n    <tr>\n      <th>46</th>\n      <td>mk46</td>\n      <td>2</td>\n    </tr>\n    <tr>\n      <th>47</th>\n      <td>mk47</td>\n      <td>2</td>\n    </tr>\n    <tr>\n      <th>48</th>\n      <td>mk19</td>\n      <td>1</td>\n    </tr>\n    <tr>\n      <th>49</th>\n      <td>mk26</td>\n      <td>1</td>\n    </tr>\n    <tr>\n      <th>50</th>\n      <td>mk49</td>\n      <td>1</td>\n    </tr>\n    <tr>\n      <th>51</th>\n      <td>mk32</td>\n      <td>1</td>\n    </tr>\n  </tbody>\n</table>\n</div>"
     },
     "execution_count": 32,
     "metadata": {},
     "output_type": "execute_result"
    }
   ],
   "source": [
    "product[[\"category_lv0\"]].value_counts().reset_index()"
   ]
  },
  {
   "cell_type": "code",
   "execution_count": 33,
   "metadata": {
    "tags": []
   },
   "outputs": [
    {
     "data": {
      "text/plain": "    category_lv1    0\n0       mk21:089  563\n1       mk03:092  402\n2       mk22:168  321\n3       mk22:098  301\n4       mk03:291  278\n..           ...  ...\n291     mk40:254    1\n292     mk09:166    1\n293     mk41:285    1\n294     mk08:065    1\n295     mk40:079    1\n\n[296 rows x 2 columns]",
      "text/html": "<div>\n<style scoped>\n    .dataframe tbody tr th:only-of-type {\n        vertical-align: middle;\n    }\n\n    .dataframe tbody tr th {\n        vertical-align: top;\n    }\n\n    .dataframe thead th {\n        text-align: right;\n    }\n</style>\n<table border=\"1\" class=\"dataframe\">\n  <thead>\n    <tr style=\"text-align: right;\">\n      <th></th>\n      <th>category_lv1</th>\n      <th>0</th>\n    </tr>\n  </thead>\n  <tbody>\n    <tr>\n      <th>0</th>\n      <td>mk21:089</td>\n      <td>563</td>\n    </tr>\n    <tr>\n      <th>1</th>\n      <td>mk03:092</td>\n      <td>402</td>\n    </tr>\n    <tr>\n      <th>2</th>\n      <td>mk22:168</td>\n      <td>321</td>\n    </tr>\n    <tr>\n      <th>3</th>\n      <td>mk22:098</td>\n      <td>301</td>\n    </tr>\n    <tr>\n      <th>4</th>\n      <td>mk03:291</td>\n      <td>278</td>\n    </tr>\n    <tr>\n      <th>...</th>\n      <td>...</td>\n      <td>...</td>\n    </tr>\n    <tr>\n      <th>291</th>\n      <td>mk40:254</td>\n      <td>1</td>\n    </tr>\n    <tr>\n      <th>292</th>\n      <td>mk09:166</td>\n      <td>1</td>\n    </tr>\n    <tr>\n      <th>293</th>\n      <td>mk41:285</td>\n      <td>1</td>\n    </tr>\n    <tr>\n      <th>294</th>\n      <td>mk08:065</td>\n      <td>1</td>\n    </tr>\n    <tr>\n      <th>295</th>\n      <td>mk40:079</td>\n      <td>1</td>\n    </tr>\n  </tbody>\n</table>\n<p>296 rows × 2 columns</p>\n</div>"
     },
     "execution_count": 33,
     "metadata": {},
     "output_type": "execute_result"
    }
   ],
   "source": [
    "product[[\"category_lv1\"]].value_counts().reset_index()"
   ]
  },
  {
   "cell_type": "code",
   "execution_count": 34,
   "metadata": {
    "tags": []
   },
   "outputs": [
    {
     "data": {
      "text/plain": "     category_lv2    0\n0    mk03:092:378  237\n1    mk04:227:103  207\n2    mk21:089:468  195\n3    mk28:015:103  176\n4    mk22:098:272  173\n..            ...  ...\n888  mk37:045:103    1\n889  mk11:032:103    1\n890  mk06:147:103    1\n891  mk29:068:216    1\n892  mk25:215:084    1\n\n[893 rows x 2 columns]",
      "text/html": "<div>\n<style scoped>\n    .dataframe tbody tr th:only-of-type {\n        vertical-align: middle;\n    }\n\n    .dataframe tbody tr th {\n        vertical-align: top;\n    }\n\n    .dataframe thead th {\n        text-align: right;\n    }\n</style>\n<table border=\"1\" class=\"dataframe\">\n  <thead>\n    <tr style=\"text-align: right;\">\n      <th></th>\n      <th>category_lv2</th>\n      <th>0</th>\n    </tr>\n  </thead>\n  <tbody>\n    <tr>\n      <th>0</th>\n      <td>mk03:092:378</td>\n      <td>237</td>\n    </tr>\n    <tr>\n      <th>1</th>\n      <td>mk04:227:103</td>\n      <td>207</td>\n    </tr>\n    <tr>\n      <th>2</th>\n      <td>mk21:089:468</td>\n      <td>195</td>\n    </tr>\n    <tr>\n      <th>3</th>\n      <td>mk28:015:103</td>\n      <td>176</td>\n    </tr>\n    <tr>\n      <th>4</th>\n      <td>mk22:098:272</td>\n      <td>173</td>\n    </tr>\n    <tr>\n      <th>...</th>\n      <td>...</td>\n      <td>...</td>\n    </tr>\n    <tr>\n      <th>888</th>\n      <td>mk37:045:103</td>\n      <td>1</td>\n    </tr>\n    <tr>\n      <th>889</th>\n      <td>mk11:032:103</td>\n      <td>1</td>\n    </tr>\n    <tr>\n      <th>890</th>\n      <td>mk06:147:103</td>\n      <td>1</td>\n    </tr>\n    <tr>\n      <th>891</th>\n      <td>mk29:068:216</td>\n      <td>1</td>\n    </tr>\n    <tr>\n      <th>892</th>\n      <td>mk25:215:084</td>\n      <td>1</td>\n    </tr>\n  </tbody>\n</table>\n<p>893 rows × 2 columns</p>\n</div>"
     },
     "execution_count": 34,
     "metadata": {},
     "output_type": "execute_result"
    }
   ],
   "source": [
    "product[[\"category_lv2\"]].value_counts().reset_index()"
   ]
  },
  {
   "cell_type": "code",
   "execution_count": 35,
   "metadata": {
    "tags": []
   },
   "outputs": [
    {
     "data": {
      "text/plain": "          category_lv3    0\n0     mk03:092:378:103  237\n1     mk04:227:103:103  207\n2     mk21:089:468:103  195\n3     mk28:015:103:103  176\n4     mk22:098:272:103  173\n...                ...  ...\n1213  mk17:118:215:103    1\n1214  mk04:187:083:103    1\n1215  mk25:219:175:099    1\n1216  mk29:241:080:103    1\n1217  mk17:206:317:201    1\n\n[1218 rows x 2 columns]",
      "text/html": "<div>\n<style scoped>\n    .dataframe tbody tr th:only-of-type {\n        vertical-align: middle;\n    }\n\n    .dataframe tbody tr th {\n        vertical-align: top;\n    }\n\n    .dataframe thead th {\n        text-align: right;\n    }\n</style>\n<table border=\"1\" class=\"dataframe\">\n  <thead>\n    <tr style=\"text-align: right;\">\n      <th></th>\n      <th>category_lv3</th>\n      <th>0</th>\n    </tr>\n  </thead>\n  <tbody>\n    <tr>\n      <th>0</th>\n      <td>mk03:092:378:103</td>\n      <td>237</td>\n    </tr>\n    <tr>\n      <th>1</th>\n      <td>mk04:227:103:103</td>\n      <td>207</td>\n    </tr>\n    <tr>\n      <th>2</th>\n      <td>mk21:089:468:103</td>\n      <td>195</td>\n    </tr>\n    <tr>\n      <th>3</th>\n      <td>mk28:015:103:103</td>\n      <td>176</td>\n    </tr>\n    <tr>\n      <th>4</th>\n      <td>mk22:098:272:103</td>\n      <td>173</td>\n    </tr>\n    <tr>\n      <th>...</th>\n      <td>...</td>\n      <td>...</td>\n    </tr>\n    <tr>\n      <th>1213</th>\n      <td>mk17:118:215:103</td>\n      <td>1</td>\n    </tr>\n    <tr>\n      <th>1214</th>\n      <td>mk04:187:083:103</td>\n      <td>1</td>\n    </tr>\n    <tr>\n      <th>1215</th>\n      <td>mk25:219:175:099</td>\n      <td>1</td>\n    </tr>\n    <tr>\n      <th>1216</th>\n      <td>mk29:241:080:103</td>\n      <td>1</td>\n    </tr>\n    <tr>\n      <th>1217</th>\n      <td>mk17:206:317:201</td>\n      <td>1</td>\n    </tr>\n  </tbody>\n</table>\n<p>1218 rows × 2 columns</p>\n</div>"
     },
     "execution_count": 35,
     "metadata": {},
     "output_type": "execute_result"
    }
   ],
   "source": [
    "product[[\"category_lv3\"]].value_counts().reset_index()"
   ]
  },
  {
   "cell_type": "code",
   "execution_count": 36,
   "metadata": {
    "tags": []
   },
   "outputs": [
    {
     "data": {
      "text/plain": "                 category_lv4   0\n0      mk35:072:177:182:09721  10\n1      mk07:129:434:103:09405  10\n2      mk35:072:177:182:04085   8\n3      mk35:072:177:182:05523   8\n4      mk42:261:065:103:00704   8\n...                       ...  ..\n10758  mk12:220:106:135:02636   1\n10759  mk12:220:106:135:02672   1\n10760  mk12:220:106:135:02691   1\n10761  mk12:220:106:135:02758   1\n10762  mk52:246:103:103:09683   1\n\n[10763 rows x 2 columns]",
      "text/html": "<div>\n<style scoped>\n    .dataframe tbody tr th:only-of-type {\n        vertical-align: middle;\n    }\n\n    .dataframe tbody tr th {\n        vertical-align: top;\n    }\n\n    .dataframe thead th {\n        text-align: right;\n    }\n</style>\n<table border=\"1\" class=\"dataframe\">\n  <thead>\n    <tr style=\"text-align: right;\">\n      <th></th>\n      <th>category_lv4</th>\n      <th>0</th>\n    </tr>\n  </thead>\n  <tbody>\n    <tr>\n      <th>0</th>\n      <td>mk35:072:177:182:09721</td>\n      <td>10</td>\n    </tr>\n    <tr>\n      <th>1</th>\n      <td>mk07:129:434:103:09405</td>\n      <td>10</td>\n    </tr>\n    <tr>\n      <th>2</th>\n      <td>mk35:072:177:182:04085</td>\n      <td>8</td>\n    </tr>\n    <tr>\n      <th>3</th>\n      <td>mk35:072:177:182:05523</td>\n      <td>8</td>\n    </tr>\n    <tr>\n      <th>4</th>\n      <td>mk42:261:065:103:00704</td>\n      <td>8</td>\n    </tr>\n    <tr>\n      <th>...</th>\n      <td>...</td>\n      <td>...</td>\n    </tr>\n    <tr>\n      <th>10758</th>\n      <td>mk12:220:106:135:02636</td>\n      <td>1</td>\n    </tr>\n    <tr>\n      <th>10759</th>\n      <td>mk12:220:106:135:02672</td>\n      <td>1</td>\n    </tr>\n    <tr>\n      <th>10760</th>\n      <td>mk12:220:106:135:02691</td>\n      <td>1</td>\n    </tr>\n    <tr>\n      <th>10761</th>\n      <td>mk12:220:106:135:02758</td>\n      <td>1</td>\n    </tr>\n    <tr>\n      <th>10762</th>\n      <td>mk52:246:103:103:09683</td>\n      <td>1</td>\n    </tr>\n  </tbody>\n</table>\n<p>10763 rows × 2 columns</p>\n</div>"
     },
     "execution_count": 36,
     "metadata": {},
     "output_type": "execute_result"
    }
   ],
   "source": [
    "product[[\"category_lv4\"]].value_counts().reset_index()"
   ]
  },
  {
   "cell_type": "code",
   "execution_count": 37,
   "metadata": {},
   "outputs": [
    {
     "data": {
      "text/plain": "        order_id client_id product_id            datetime  units   price  \\\n0       ox008433   cx05072    px04611 2019-10-07 15:20:00    1.0   49.90   \n1       ox070389   cx05072    px12305 2019-10-11 17:42:00    1.0   69.90   \n2       ox061137   cx06840    px07033 2019-01-19 13:09:00    1.0   35.90   \n3       ox061137   cx06840    px05992 2019-01-19 13:09:00    3.0   35.90   \n4       ox038612   cx06840    px10040 2019-04-18 14:36:00    1.0   39.00   \n...          ...       ...        ...                 ...    ...     ...   \n168467  ox081422   cx15796    px08541 2019-06-25 11:50:00    1.0  246.50   \n168468  ox081422   cx15796    px05166 2019-06-25 11:50:00    1.0  652.50   \n168469  ox128219   cx15796    px12043 2019-09-06 11:45:00    2.0   15.00   \n168470  ox126589   cx15796    px12043 2019-09-07 04:39:00    1.0   15.00   \n168471  ox079633   cx15796    px07618 2019-11-19 07:53:00    1.0  263.42   \n\n       payment_method  installments  delivery_days delivery_state device  \\\n0                pm05           NaN            NaN           st07    dv9   \n1                pm05           NaN            NaN           st07    dv9   \n2                pm05           NaN            NaN           st07    dv9   \n3                pm05           NaN            NaN           st07    dv9   \n4                pm05           NaN            NaN           st07    dv9   \n...               ...           ...            ...            ...    ...   \n168467           pm14          10.0           21.0           st01    dv5   \n168468           pm14          10.0           21.0           st01    dv5   \n168469           pm05           NaN            NaN           st07    dv9   \n168470           pm10           1.0            0.0           st01    dv3   \n168471           pm10           1.0            2.0           st01    dv3   \n\n       source  \n0        sc08  \n1        sc08  \n2        sc08  \n3        sc08  \n4        sc08  \n...       ...  \n168467   sc11  \n168468   sc11  \n168469   sc08  \n168470   sc12  \n168471   sc12  \n\n[168472 rows x 12 columns]",
      "text/html": "<div>\n<style scoped>\n    .dataframe tbody tr th:only-of-type {\n        vertical-align: middle;\n    }\n\n    .dataframe tbody tr th {\n        vertical-align: top;\n    }\n\n    .dataframe thead th {\n        text-align: right;\n    }\n</style>\n<table border=\"1\" class=\"dataframe\">\n  <thead>\n    <tr style=\"text-align: right;\">\n      <th></th>\n      <th>order_id</th>\n      <th>client_id</th>\n      <th>product_id</th>\n      <th>datetime</th>\n      <th>units</th>\n      <th>price</th>\n      <th>payment_method</th>\n      <th>installments</th>\n      <th>delivery_days</th>\n      <th>delivery_state</th>\n      <th>device</th>\n      <th>source</th>\n    </tr>\n  </thead>\n  <tbody>\n    <tr>\n      <th>0</th>\n      <td>ox008433</td>\n      <td>cx05072</td>\n      <td>px04611</td>\n      <td>2019-10-07 15:20:00</td>\n      <td>1.0</td>\n      <td>49.90</td>\n      <td>pm05</td>\n      <td>NaN</td>\n      <td>NaN</td>\n      <td>st07</td>\n      <td>dv9</td>\n      <td>sc08</td>\n    </tr>\n    <tr>\n      <th>1</th>\n      <td>ox070389</td>\n      <td>cx05072</td>\n      <td>px12305</td>\n      <td>2019-10-11 17:42:00</td>\n      <td>1.0</td>\n      <td>69.90</td>\n      <td>pm05</td>\n      <td>NaN</td>\n      <td>NaN</td>\n      <td>st07</td>\n      <td>dv9</td>\n      <td>sc08</td>\n    </tr>\n    <tr>\n      <th>2</th>\n      <td>ox061137</td>\n      <td>cx06840</td>\n      <td>px07033</td>\n      <td>2019-01-19 13:09:00</td>\n      <td>1.0</td>\n      <td>35.90</td>\n      <td>pm05</td>\n      <td>NaN</td>\n      <td>NaN</td>\n      <td>st07</td>\n      <td>dv9</td>\n      <td>sc08</td>\n    </tr>\n    <tr>\n      <th>3</th>\n      <td>ox061137</td>\n      <td>cx06840</td>\n      <td>px05992</td>\n      <td>2019-01-19 13:09:00</td>\n      <td>3.0</td>\n      <td>35.90</td>\n      <td>pm05</td>\n      <td>NaN</td>\n      <td>NaN</td>\n      <td>st07</td>\n      <td>dv9</td>\n      <td>sc08</td>\n    </tr>\n    <tr>\n      <th>4</th>\n      <td>ox038612</td>\n      <td>cx06840</td>\n      <td>px10040</td>\n      <td>2019-04-18 14:36:00</td>\n      <td>1.0</td>\n      <td>39.00</td>\n      <td>pm05</td>\n      <td>NaN</td>\n      <td>NaN</td>\n      <td>st07</td>\n      <td>dv9</td>\n      <td>sc08</td>\n    </tr>\n    <tr>\n      <th>...</th>\n      <td>...</td>\n      <td>...</td>\n      <td>...</td>\n      <td>...</td>\n      <td>...</td>\n      <td>...</td>\n      <td>...</td>\n      <td>...</td>\n      <td>...</td>\n      <td>...</td>\n      <td>...</td>\n      <td>...</td>\n    </tr>\n    <tr>\n      <th>168467</th>\n      <td>ox081422</td>\n      <td>cx15796</td>\n      <td>px08541</td>\n      <td>2019-06-25 11:50:00</td>\n      <td>1.0</td>\n      <td>246.50</td>\n      <td>pm14</td>\n      <td>10.0</td>\n      <td>21.0</td>\n      <td>st01</td>\n      <td>dv5</td>\n      <td>sc11</td>\n    </tr>\n    <tr>\n      <th>168468</th>\n      <td>ox081422</td>\n      <td>cx15796</td>\n      <td>px05166</td>\n      <td>2019-06-25 11:50:00</td>\n      <td>1.0</td>\n      <td>652.50</td>\n      <td>pm14</td>\n      <td>10.0</td>\n      <td>21.0</td>\n      <td>st01</td>\n      <td>dv5</td>\n      <td>sc11</td>\n    </tr>\n    <tr>\n      <th>168469</th>\n      <td>ox128219</td>\n      <td>cx15796</td>\n      <td>px12043</td>\n      <td>2019-09-06 11:45:00</td>\n      <td>2.0</td>\n      <td>15.00</td>\n      <td>pm05</td>\n      <td>NaN</td>\n      <td>NaN</td>\n      <td>st07</td>\n      <td>dv9</td>\n      <td>sc08</td>\n    </tr>\n    <tr>\n      <th>168470</th>\n      <td>ox126589</td>\n      <td>cx15796</td>\n      <td>px12043</td>\n      <td>2019-09-07 04:39:00</td>\n      <td>1.0</td>\n      <td>15.00</td>\n      <td>pm10</td>\n      <td>1.0</td>\n      <td>0.0</td>\n      <td>st01</td>\n      <td>dv3</td>\n      <td>sc12</td>\n    </tr>\n    <tr>\n      <th>168471</th>\n      <td>ox079633</td>\n      <td>cx15796</td>\n      <td>px07618</td>\n      <td>2019-11-19 07:53:00</td>\n      <td>1.0</td>\n      <td>263.42</td>\n      <td>pm10</td>\n      <td>1.0</td>\n      <td>2.0</td>\n      <td>st01</td>\n      <td>dv3</td>\n      <td>sc12</td>\n    </tr>\n  </tbody>\n</table>\n<p>168472 rows × 12 columns</p>\n</div>"
     },
     "execution_count": 37,
     "metadata": {},
     "output_type": "execute_result"
    }
   ],
   "source": [
    "orders"
   ]
  },
  {
   "cell_type": "code",
   "execution_count": 38,
   "metadata": {},
   "outputs": [
    {
     "data": {
      "text/plain": "23292"
     },
     "execution_count": 38,
     "metadata": {},
     "output_type": "execute_result"
    }
   ],
   "source": [
    "client_tr[\"client_id\"].nunique()"
   ]
  },
  {
   "cell_type": "code",
   "execution_count": 39,
   "metadata": {},
   "outputs": [
    {
     "data": {
      "text/plain": "      client_id  birthdate state gender  is_churn\n0       cx05072 1972-03-22  st25    cg2     False\n1       cx03836 1966-08-14  st15    cg1     False\n2       cx08472 1954-08-07  st15    cg1     False\n3       cx12946 1955-11-16  st15    cg1     False\n4       cx19045 1958-10-25  st15    cg2     False\n...         ...        ...   ...    ...       ...\n23287   cx05312 1981-08-29  st18    cg1     False\n23288   cx02434 1997-03-15  st04    cg2     False\n23289   cx16024 1950-10-09  st11    cg1     False\n23290   cx11285 1976-07-03  st11    cg2     False\n23291   cx00861 1980-06-01  st21    cg2     False\n\n[23292 rows x 5 columns]",
      "text/html": "<div>\n<style scoped>\n    .dataframe tbody tr th:only-of-type {\n        vertical-align: middle;\n    }\n\n    .dataframe tbody tr th {\n        vertical-align: top;\n    }\n\n    .dataframe thead th {\n        text-align: right;\n    }\n</style>\n<table border=\"1\" class=\"dataframe\">\n  <thead>\n    <tr style=\"text-align: right;\">\n      <th></th>\n      <th>client_id</th>\n      <th>birthdate</th>\n      <th>state</th>\n      <th>gender</th>\n      <th>is_churn</th>\n    </tr>\n  </thead>\n  <tbody>\n    <tr>\n      <th>0</th>\n      <td>cx05072</td>\n      <td>1972-03-22</td>\n      <td>st25</td>\n      <td>cg2</td>\n      <td>False</td>\n    </tr>\n    <tr>\n      <th>1</th>\n      <td>cx03836</td>\n      <td>1966-08-14</td>\n      <td>st15</td>\n      <td>cg1</td>\n      <td>False</td>\n    </tr>\n    <tr>\n      <th>2</th>\n      <td>cx08472</td>\n      <td>1954-08-07</td>\n      <td>st15</td>\n      <td>cg1</td>\n      <td>False</td>\n    </tr>\n    <tr>\n      <th>3</th>\n      <td>cx12946</td>\n      <td>1955-11-16</td>\n      <td>st15</td>\n      <td>cg1</td>\n      <td>False</td>\n    </tr>\n    <tr>\n      <th>4</th>\n      <td>cx19045</td>\n      <td>1958-10-25</td>\n      <td>st15</td>\n      <td>cg2</td>\n      <td>False</td>\n    </tr>\n    <tr>\n      <th>...</th>\n      <td>...</td>\n      <td>...</td>\n      <td>...</td>\n      <td>...</td>\n      <td>...</td>\n    </tr>\n    <tr>\n      <th>23287</th>\n      <td>cx05312</td>\n      <td>1981-08-29</td>\n      <td>st18</td>\n      <td>cg1</td>\n      <td>False</td>\n    </tr>\n    <tr>\n      <th>23288</th>\n      <td>cx02434</td>\n      <td>1997-03-15</td>\n      <td>st04</td>\n      <td>cg2</td>\n      <td>False</td>\n    </tr>\n    <tr>\n      <th>23289</th>\n      <td>cx16024</td>\n      <td>1950-10-09</td>\n      <td>st11</td>\n      <td>cg1</td>\n      <td>False</td>\n    </tr>\n    <tr>\n      <th>23290</th>\n      <td>cx11285</td>\n      <td>1976-07-03</td>\n      <td>st11</td>\n      <td>cg2</td>\n      <td>False</td>\n    </tr>\n    <tr>\n      <th>23291</th>\n      <td>cx00861</td>\n      <td>1980-06-01</td>\n      <td>st21</td>\n      <td>cg2</td>\n      <td>False</td>\n    </tr>\n  </tbody>\n</table>\n<p>23292 rows × 5 columns</p>\n</div>"
     },
     "execution_count": 39,
     "metadata": {},
     "output_type": "execute_result"
    }
   ],
   "source": [
    "client_tr"
   ]
  },
  {
   "cell_type": "code",
   "execution_count": 40,
   "metadata": {},
   "outputs": [
    {
     "data": {
      "text/plain": "0       cx06840\n1       cx01931\n2       cx35431\n3       cx36233\n4       cx13540\n         ...   \n7759    cx19119\n7760    cx21963\n7761    cx37195\n7762    cx16851\n7763    cx15796\nName: client_id, Length: 7764, dtype: object"
     },
     "execution_count": 40,
     "metadata": {},
     "output_type": "execute_result"
    }
   ],
   "source": [
    "client_te[\"client_id\"]"
   ]
  },
  {
   "cell_type": "code",
   "execution_count": 41,
   "metadata": {},
   "outputs": [
    {
     "data": {
      "text/plain": "7764"
     },
     "execution_count": 41,
     "metadata": {},
     "output_type": "execute_result"
    }
   ],
   "source": [
    "client_on_test = set(client_te[\"client_id\"].to_list())\n",
    "client_on_train = set(client_tr[\"client_id\"].to_list())\n",
    "\n",
    "on_test_not_train = client_on_test - client_on_train\n",
    "len(on_test_not_train)"
   ]
  },
  {
   "cell_type": "code",
   "execution_count": 42,
   "metadata": {},
   "outputs": [
    {
     "data": {
      "text/plain": "23292"
     },
     "execution_count": 42,
     "metadata": {},
     "output_type": "execute_result"
    }
   ],
   "source": [
    "on_train_not_test = client_on_train - client_on_test\n",
    "len(on_train_not_test)"
   ]
  },
  {
   "cell_type": "markdown",
   "metadata": {},
   "source": [
    "Temos apenas valores únicos em todos os datasets (treino e teste)"
   ]
  },
  {
   "cell_type": "code",
   "execution_count": 43,
   "metadata": {},
   "outputs": [
    {
     "data": {
      "text/plain": "        order_id client_id product_id            datetime  units   price  \\\n2       ox061137   cx06840    px07033 2019-01-19 13:09:00    1.0   35.90   \n3       ox061137   cx06840    px05992 2019-01-19 13:09:00    3.0   35.90   \n4       ox038612   cx06840    px10040 2019-04-18 14:36:00    1.0   39.00   \n5       ox050949   cx06840    px06767 2019-05-17 13:40:00    1.0   79.90   \n6       ox128683   cx06840    px08113 2019-09-28 11:58:00    1.0   55.90   \n...          ...       ...        ...                 ...    ...     ...   \n168467  ox081422   cx15796    px08541 2019-06-25 11:50:00    1.0  246.50   \n168468  ox081422   cx15796    px05166 2019-06-25 11:50:00    1.0  652.50   \n168469  ox128219   cx15796    px12043 2019-09-06 11:45:00    2.0   15.00   \n168470  ox126589   cx15796    px12043 2019-09-07 04:39:00    1.0   15.00   \n168471  ox079633   cx15796    px07618 2019-11-19 07:53:00    1.0  263.42   \n\n       payment_method  installments  delivery_days delivery_state device  \\\n2                pm05           NaN            NaN           st07    dv9   \n3                pm05           NaN            NaN           st07    dv9   \n4                pm05           NaN            NaN           st07    dv9   \n5                pm05           NaN            NaN           st07    dv9   \n6                pm05           NaN            NaN           st07    dv9   \n...               ...           ...            ...            ...    ...   \n168467           pm14          10.0           21.0           st01    dv5   \n168468           pm14          10.0           21.0           st01    dv5   \n168469           pm05           NaN            NaN           st07    dv9   \n168470           pm10           1.0            0.0           st01    dv3   \n168471           pm10           1.0            2.0           st01    dv3   \n\n       source  \n2        sc08  \n3        sc08  \n4        sc08  \n5        sc08  \n6        sc08  \n...       ...  \n168467   sc11  \n168468   sc11  \n168469   sc08  \n168470   sc12  \n168471   sc12  \n\n[33860 rows x 12 columns]",
      "text/html": "<div>\n<style scoped>\n    .dataframe tbody tr th:only-of-type {\n        vertical-align: middle;\n    }\n\n    .dataframe tbody tr th {\n        vertical-align: top;\n    }\n\n    .dataframe thead th {\n        text-align: right;\n    }\n</style>\n<table border=\"1\" class=\"dataframe\">\n  <thead>\n    <tr style=\"text-align: right;\">\n      <th></th>\n      <th>order_id</th>\n      <th>client_id</th>\n      <th>product_id</th>\n      <th>datetime</th>\n      <th>units</th>\n      <th>price</th>\n      <th>payment_method</th>\n      <th>installments</th>\n      <th>delivery_days</th>\n      <th>delivery_state</th>\n      <th>device</th>\n      <th>source</th>\n    </tr>\n  </thead>\n  <tbody>\n    <tr>\n      <th>2</th>\n      <td>ox061137</td>\n      <td>cx06840</td>\n      <td>px07033</td>\n      <td>2019-01-19 13:09:00</td>\n      <td>1.0</td>\n      <td>35.90</td>\n      <td>pm05</td>\n      <td>NaN</td>\n      <td>NaN</td>\n      <td>st07</td>\n      <td>dv9</td>\n      <td>sc08</td>\n    </tr>\n    <tr>\n      <th>3</th>\n      <td>ox061137</td>\n      <td>cx06840</td>\n      <td>px05992</td>\n      <td>2019-01-19 13:09:00</td>\n      <td>3.0</td>\n      <td>35.90</td>\n      <td>pm05</td>\n      <td>NaN</td>\n      <td>NaN</td>\n      <td>st07</td>\n      <td>dv9</td>\n      <td>sc08</td>\n    </tr>\n    <tr>\n      <th>4</th>\n      <td>ox038612</td>\n      <td>cx06840</td>\n      <td>px10040</td>\n      <td>2019-04-18 14:36:00</td>\n      <td>1.0</td>\n      <td>39.00</td>\n      <td>pm05</td>\n      <td>NaN</td>\n      <td>NaN</td>\n      <td>st07</td>\n      <td>dv9</td>\n      <td>sc08</td>\n    </tr>\n    <tr>\n      <th>5</th>\n      <td>ox050949</td>\n      <td>cx06840</td>\n      <td>px06767</td>\n      <td>2019-05-17 13:40:00</td>\n      <td>1.0</td>\n      <td>79.90</td>\n      <td>pm05</td>\n      <td>NaN</td>\n      <td>NaN</td>\n      <td>st07</td>\n      <td>dv9</td>\n      <td>sc08</td>\n    </tr>\n    <tr>\n      <th>6</th>\n      <td>ox128683</td>\n      <td>cx06840</td>\n      <td>px08113</td>\n      <td>2019-09-28 11:58:00</td>\n      <td>1.0</td>\n      <td>55.90</td>\n      <td>pm05</td>\n      <td>NaN</td>\n      <td>NaN</td>\n      <td>st07</td>\n      <td>dv9</td>\n      <td>sc08</td>\n    </tr>\n    <tr>\n      <th>...</th>\n      <td>...</td>\n      <td>...</td>\n      <td>...</td>\n      <td>...</td>\n      <td>...</td>\n      <td>...</td>\n      <td>...</td>\n      <td>...</td>\n      <td>...</td>\n      <td>...</td>\n      <td>...</td>\n      <td>...</td>\n    </tr>\n    <tr>\n      <th>168467</th>\n      <td>ox081422</td>\n      <td>cx15796</td>\n      <td>px08541</td>\n      <td>2019-06-25 11:50:00</td>\n      <td>1.0</td>\n      <td>246.50</td>\n      <td>pm14</td>\n      <td>10.0</td>\n      <td>21.0</td>\n      <td>st01</td>\n      <td>dv5</td>\n      <td>sc11</td>\n    </tr>\n    <tr>\n      <th>168468</th>\n      <td>ox081422</td>\n      <td>cx15796</td>\n      <td>px05166</td>\n      <td>2019-06-25 11:50:00</td>\n      <td>1.0</td>\n      <td>652.50</td>\n      <td>pm14</td>\n      <td>10.0</td>\n      <td>21.0</td>\n      <td>st01</td>\n      <td>dv5</td>\n      <td>sc11</td>\n    </tr>\n    <tr>\n      <th>168469</th>\n      <td>ox128219</td>\n      <td>cx15796</td>\n      <td>px12043</td>\n      <td>2019-09-06 11:45:00</td>\n      <td>2.0</td>\n      <td>15.00</td>\n      <td>pm05</td>\n      <td>NaN</td>\n      <td>NaN</td>\n      <td>st07</td>\n      <td>dv9</td>\n      <td>sc08</td>\n    </tr>\n    <tr>\n      <th>168470</th>\n      <td>ox126589</td>\n      <td>cx15796</td>\n      <td>px12043</td>\n      <td>2019-09-07 04:39:00</td>\n      <td>1.0</td>\n      <td>15.00</td>\n      <td>pm10</td>\n      <td>1.0</td>\n      <td>0.0</td>\n      <td>st01</td>\n      <td>dv3</td>\n      <td>sc12</td>\n    </tr>\n    <tr>\n      <th>168471</th>\n      <td>ox079633</td>\n      <td>cx15796</td>\n      <td>px07618</td>\n      <td>2019-11-19 07:53:00</td>\n      <td>1.0</td>\n      <td>263.42</td>\n      <td>pm10</td>\n      <td>1.0</td>\n      <td>2.0</td>\n      <td>st01</td>\n      <td>dv3</td>\n      <td>sc12</td>\n    </tr>\n  </tbody>\n</table>\n<p>33860 rows × 12 columns</p>\n</div>"
     },
     "execution_count": 43,
     "metadata": {},
     "output_type": "execute_result"
    }
   ],
   "source": [
    "orders[orders[\"client_id\"].isin(client_te[\"client_id\"].to_list())]"
   ]
  },
  {
   "cell_type": "code",
   "execution_count": 44,
   "metadata": {},
   "outputs": [],
   "source": [
    "orders_tr_ordered = orders[\n",
    "    orders[\"client_id\"].isin(client_tr[\"client_id\"].to_list())\n",
    "].sort_values([\"client_id\"])"
   ]
  },
  {
   "cell_type": "code",
   "execution_count": 45,
   "metadata": {},
   "outputs": [
    {
     "data": {
      "text/plain": "134865"
     },
     "execution_count": 45,
     "metadata": {},
     "output_type": "execute_result"
    }
   ],
   "source": [
    "101005 + 33860"
   ]
  },
  {
   "cell_type": "code",
   "execution_count": 46,
   "metadata": {},
   "outputs": [
    {
     "data": {
      "text/plain": "(168472, 12)"
     },
     "execution_count": 46,
     "metadata": {},
     "output_type": "execute_result"
    }
   ],
   "source": [
    "orders.shape"
   ]
  },
  {
   "cell_type": "markdown",
   "metadata": {},
   "source": [
    "Variável price possui valores negativos, esse valores podem indicar algum extorno na compra"
   ]
  },
  {
   "cell_type": "code",
   "execution_count": 47,
   "metadata": {},
   "outputs": [
    {
     "data": {
      "text/plain": "        order_id client_id product_id payment_method delivery_state  device  \\\ncount     168472    168472     168472         168472         168472  168472   \nunique    133209     38821      12535             14             26       9   \ntop     ox059501   cx33292    px10485           pm05           st07     dv9   \nfreq           5       101       1875         131927          97820   97794   \n\n        source  \ncount   168472  \nunique      16  \ntop       sc08  \nfreq     97796  ",
      "text/html": "<div>\n<style scoped>\n    .dataframe tbody tr th:only-of-type {\n        vertical-align: middle;\n    }\n\n    .dataframe tbody tr th {\n        vertical-align: top;\n    }\n\n    .dataframe thead th {\n        text-align: right;\n    }\n</style>\n<table border=\"1\" class=\"dataframe\">\n  <thead>\n    <tr style=\"text-align: right;\">\n      <th></th>\n      <th>order_id</th>\n      <th>client_id</th>\n      <th>product_id</th>\n      <th>payment_method</th>\n      <th>delivery_state</th>\n      <th>device</th>\n      <th>source</th>\n    </tr>\n  </thead>\n  <tbody>\n    <tr>\n      <th>count</th>\n      <td>168472</td>\n      <td>168472</td>\n      <td>168472</td>\n      <td>168472</td>\n      <td>168472</td>\n      <td>168472</td>\n      <td>168472</td>\n    </tr>\n    <tr>\n      <th>unique</th>\n      <td>133209</td>\n      <td>38821</td>\n      <td>12535</td>\n      <td>14</td>\n      <td>26</td>\n      <td>9</td>\n      <td>16</td>\n    </tr>\n    <tr>\n      <th>top</th>\n      <td>ox059501</td>\n      <td>cx33292</td>\n      <td>px10485</td>\n      <td>pm05</td>\n      <td>st07</td>\n      <td>dv9</td>\n      <td>sc08</td>\n    </tr>\n    <tr>\n      <th>freq</th>\n      <td>5</td>\n      <td>101</td>\n      <td>1875</td>\n      <td>131927</td>\n      <td>97820</td>\n      <td>97794</td>\n      <td>97796</td>\n    </tr>\n  </tbody>\n</table>\n</div>"
     },
     "execution_count": 47,
     "metadata": {},
     "output_type": "execute_result"
    }
   ],
   "source": [
    "orders.describe(include=\"object\")"
   ]
  },
  {
   "cell_type": "code",
   "execution_count": 48,
   "metadata": {},
   "outputs": [
    {
     "data": {
      "text/plain": "               units          price  installments  delivery_days\ncount  168472.000000  168472.000000  36545.000000   89642.000000\nmean        1.228846     451.384291      4.551293       7.017938\nstd         1.504511     857.769280      4.704385       6.855334\nmin         0.000000   -8999.000000      1.000000       0.000000\n25%         1.000000      39.900000      1.000000       2.000000\n50%         1.000000     162.580000      3.000000       5.000000\n75%         1.000000     699.000000      7.000000       9.000000\nmax       110.000000   25648.900000     24.000000     165.000000",
      "text/html": "<div>\n<style scoped>\n    .dataframe tbody tr th:only-of-type {\n        vertical-align: middle;\n    }\n\n    .dataframe tbody tr th {\n        vertical-align: top;\n    }\n\n    .dataframe thead th {\n        text-align: right;\n    }\n</style>\n<table border=\"1\" class=\"dataframe\">\n  <thead>\n    <tr style=\"text-align: right;\">\n      <th></th>\n      <th>units</th>\n      <th>price</th>\n      <th>installments</th>\n      <th>delivery_days</th>\n    </tr>\n  </thead>\n  <tbody>\n    <tr>\n      <th>count</th>\n      <td>168472.000000</td>\n      <td>168472.000000</td>\n      <td>36545.000000</td>\n      <td>89642.000000</td>\n    </tr>\n    <tr>\n      <th>mean</th>\n      <td>1.228846</td>\n      <td>451.384291</td>\n      <td>4.551293</td>\n      <td>7.017938</td>\n    </tr>\n    <tr>\n      <th>std</th>\n      <td>1.504511</td>\n      <td>857.769280</td>\n      <td>4.704385</td>\n      <td>6.855334</td>\n    </tr>\n    <tr>\n      <th>min</th>\n      <td>0.000000</td>\n      <td>-8999.000000</td>\n      <td>1.000000</td>\n      <td>0.000000</td>\n    </tr>\n    <tr>\n      <th>25%</th>\n      <td>1.000000</td>\n      <td>39.900000</td>\n      <td>1.000000</td>\n      <td>2.000000</td>\n    </tr>\n    <tr>\n      <th>50%</th>\n      <td>1.000000</td>\n      <td>162.580000</td>\n      <td>3.000000</td>\n      <td>5.000000</td>\n    </tr>\n    <tr>\n      <th>75%</th>\n      <td>1.000000</td>\n      <td>699.000000</td>\n      <td>7.000000</td>\n      <td>9.000000</td>\n    </tr>\n    <tr>\n      <th>max</th>\n      <td>110.000000</td>\n      <td>25648.900000</td>\n      <td>24.000000</td>\n      <td>165.000000</td>\n    </tr>\n  </tbody>\n</table>\n</div>"
     },
     "execution_count": 48,
     "metadata": {},
     "output_type": "execute_result"
    }
   ],
   "source": [
    "orders.describe()"
   ]
  },
  {
   "cell_type": "code",
   "execution_count": 49,
   "metadata": {},
   "outputs": [
    {
     "data": {
      "text/plain": "        order_id client_id product_id            datetime  units   price  \\\n117816  ox096465   cx29523    px02579 2019-08-08 13:00:00    1.0  8999.0   \n117815  ox096465   cx29523    px02579 2019-08-08 14:37:00    1.0 -8999.0   \n117817  ox029497   cx29523    px10091 2019-08-16 14:37:00    1.0  8999.0   \n\n       payment_method  installments  delivery_days delivery_state device  \\\n117816           pm14           4.0            2.0           st15    dv5   \n117815           pm05           NaN            NaN           st15    dv5   \n117817           pm14           4.0            2.0           st15    dv5   \n\n       source  \n117816   sc11  \n117815   sc11  \n117817   sc11  ",
      "text/html": "<div>\n<style scoped>\n    .dataframe tbody tr th:only-of-type {\n        vertical-align: middle;\n    }\n\n    .dataframe tbody tr th {\n        vertical-align: top;\n    }\n\n    .dataframe thead th {\n        text-align: right;\n    }\n</style>\n<table border=\"1\" class=\"dataframe\">\n  <thead>\n    <tr style=\"text-align: right;\">\n      <th></th>\n      <th>order_id</th>\n      <th>client_id</th>\n      <th>product_id</th>\n      <th>datetime</th>\n      <th>units</th>\n      <th>price</th>\n      <th>payment_method</th>\n      <th>installments</th>\n      <th>delivery_days</th>\n      <th>delivery_state</th>\n      <th>device</th>\n      <th>source</th>\n    </tr>\n  </thead>\n  <tbody>\n    <tr>\n      <th>117816</th>\n      <td>ox096465</td>\n      <td>cx29523</td>\n      <td>px02579</td>\n      <td>2019-08-08 13:00:00</td>\n      <td>1.0</td>\n      <td>8999.0</td>\n      <td>pm14</td>\n      <td>4.0</td>\n      <td>2.0</td>\n      <td>st15</td>\n      <td>dv5</td>\n      <td>sc11</td>\n    </tr>\n    <tr>\n      <th>117815</th>\n      <td>ox096465</td>\n      <td>cx29523</td>\n      <td>px02579</td>\n      <td>2019-08-08 14:37:00</td>\n      <td>1.0</td>\n      <td>-8999.0</td>\n      <td>pm05</td>\n      <td>NaN</td>\n      <td>NaN</td>\n      <td>st15</td>\n      <td>dv5</td>\n      <td>sc11</td>\n    </tr>\n    <tr>\n      <th>117817</th>\n      <td>ox029497</td>\n      <td>cx29523</td>\n      <td>px10091</td>\n      <td>2019-08-16 14:37:00</td>\n      <td>1.0</td>\n      <td>8999.0</td>\n      <td>pm14</td>\n      <td>4.0</td>\n      <td>2.0</td>\n      <td>st15</td>\n      <td>dv5</td>\n      <td>sc11</td>\n    </tr>\n  </tbody>\n</table>\n</div>"
     },
     "execution_count": 49,
     "metadata": {},
     "output_type": "execute_result"
    }
   ],
   "source": [
    "orders[orders[\"client_id\"] == \"cx29523\"].sort_values([\"datetime\"])"
   ]
  },
  {
   "cell_type": "code",
   "execution_count": 50,
   "metadata": {},
   "outputs": [
    {
     "data": {
      "text/plain": "      client_id  birthdate state gender  is_churn\n16207   cx29523 1987-04-16  st15    cg2     False",
      "text/html": "<div>\n<style scoped>\n    .dataframe tbody tr th:only-of-type {\n        vertical-align: middle;\n    }\n\n    .dataframe tbody tr th {\n        vertical-align: top;\n    }\n\n    .dataframe thead th {\n        text-align: right;\n    }\n</style>\n<table border=\"1\" class=\"dataframe\">\n  <thead>\n    <tr style=\"text-align: right;\">\n      <th></th>\n      <th>client_id</th>\n      <th>birthdate</th>\n      <th>state</th>\n      <th>gender</th>\n      <th>is_churn</th>\n    </tr>\n  </thead>\n  <tbody>\n    <tr>\n      <th>16207</th>\n      <td>cx29523</td>\n      <td>1987-04-16</td>\n      <td>st15</td>\n      <td>cg2</td>\n      <td>False</td>\n    </tr>\n  </tbody>\n</table>\n</div>"
     },
     "execution_count": 50,
     "metadata": {},
     "output_type": "execute_result"
    }
   ],
   "source": [
    "client_tr[client_tr[\"client_id\"] == \"cx29523\"]"
   ]
  },
  {
   "cell_type": "code",
   "execution_count": 51,
   "metadata": {},
   "outputs": [
    {
     "data": {
      "text/plain": "      client_id  birthdate state gender  is_churn\n0       cx05072 1972-03-22  st25    cg2     False\n1       cx03836 1966-08-14  st15    cg1     False\n2       cx08472 1954-08-07  st15    cg1     False\n3       cx12946 1955-11-16  st15    cg1     False\n4       cx19045 1958-10-25  st15    cg2     False\n...         ...        ...   ...    ...       ...\n23287   cx05312 1981-08-29  st18    cg1     False\n23288   cx02434 1997-03-15  st04    cg2     False\n23289   cx16024 1950-10-09  st11    cg1     False\n23290   cx11285 1976-07-03  st11    cg2     False\n23291   cx00861 1980-06-01  st21    cg2     False\n\n[23292 rows x 5 columns]",
      "text/html": "<div>\n<style scoped>\n    .dataframe tbody tr th:only-of-type {\n        vertical-align: middle;\n    }\n\n    .dataframe tbody tr th {\n        vertical-align: top;\n    }\n\n    .dataframe thead th {\n        text-align: right;\n    }\n</style>\n<table border=\"1\" class=\"dataframe\">\n  <thead>\n    <tr style=\"text-align: right;\">\n      <th></th>\n      <th>client_id</th>\n      <th>birthdate</th>\n      <th>state</th>\n      <th>gender</th>\n      <th>is_churn</th>\n    </tr>\n  </thead>\n  <tbody>\n    <tr>\n      <th>0</th>\n      <td>cx05072</td>\n      <td>1972-03-22</td>\n      <td>st25</td>\n      <td>cg2</td>\n      <td>False</td>\n    </tr>\n    <tr>\n      <th>1</th>\n      <td>cx03836</td>\n      <td>1966-08-14</td>\n      <td>st15</td>\n      <td>cg1</td>\n      <td>False</td>\n    </tr>\n    <tr>\n      <th>2</th>\n      <td>cx08472</td>\n      <td>1954-08-07</td>\n      <td>st15</td>\n      <td>cg1</td>\n      <td>False</td>\n    </tr>\n    <tr>\n      <th>3</th>\n      <td>cx12946</td>\n      <td>1955-11-16</td>\n      <td>st15</td>\n      <td>cg1</td>\n      <td>False</td>\n    </tr>\n    <tr>\n      <th>4</th>\n      <td>cx19045</td>\n      <td>1958-10-25</td>\n      <td>st15</td>\n      <td>cg2</td>\n      <td>False</td>\n    </tr>\n    <tr>\n      <th>...</th>\n      <td>...</td>\n      <td>...</td>\n      <td>...</td>\n      <td>...</td>\n      <td>...</td>\n    </tr>\n    <tr>\n      <th>23287</th>\n      <td>cx05312</td>\n      <td>1981-08-29</td>\n      <td>st18</td>\n      <td>cg1</td>\n      <td>False</td>\n    </tr>\n    <tr>\n      <th>23288</th>\n      <td>cx02434</td>\n      <td>1997-03-15</td>\n      <td>st04</td>\n      <td>cg2</td>\n      <td>False</td>\n    </tr>\n    <tr>\n      <th>23289</th>\n      <td>cx16024</td>\n      <td>1950-10-09</td>\n      <td>st11</td>\n      <td>cg1</td>\n      <td>False</td>\n    </tr>\n    <tr>\n      <th>23290</th>\n      <td>cx11285</td>\n      <td>1976-07-03</td>\n      <td>st11</td>\n      <td>cg2</td>\n      <td>False</td>\n    </tr>\n    <tr>\n      <th>23291</th>\n      <td>cx00861</td>\n      <td>1980-06-01</td>\n      <td>st21</td>\n      <td>cg2</td>\n      <td>False</td>\n    </tr>\n  </tbody>\n</table>\n<p>23292 rows × 5 columns</p>\n</div>"
     },
     "execution_count": 51,
     "metadata": {},
     "output_type": "execute_result"
    }
   ],
   "source": [
    "client_tr"
   ]
  },
  {
   "cell_type": "code",
   "execution_count": null,
   "outputs": [],
   "source": [],
   "metadata": {
    "collapsed": false,
    "pycharm": {
     "name": "#%%\n"
    }
   }
  },
  {
   "cell_type": "code",
   "execution_count": null,
   "outputs": [],
   "source": [],
   "metadata": {
    "collapsed": false,
    "pycharm": {
     "name": "#%%\n"
    }
   }
  },
  {
   "cell_type": "code",
   "execution_count": null,
   "outputs": [],
   "source": [],
   "metadata": {
    "collapsed": false,
    "pycharm": {
     "name": "#%%\n"
    }
   }
  },
  {
   "cell_type": "code",
   "execution_count": null,
   "outputs": [],
   "source": [],
   "metadata": {
    "collapsed": false,
    "pycharm": {
     "name": "#%%\n"
    }
   }
  },
  {
   "cell_type": "code",
   "execution_count": null,
   "outputs": [],
   "source": [],
   "metadata": {
    "collapsed": false,
    "pycharm": {
     "name": "#%%\n"
    }
   }
  },
  {
   "cell_type": "code",
   "execution_count": null,
   "outputs": [],
   "source": [],
   "metadata": {
    "collapsed": false,
    "pycharm": {
     "name": "#%%\n"
    }
   }
  },
  {
   "cell_type": "code",
   "execution_count": null,
   "outputs": [],
   "source": [],
   "metadata": {
    "collapsed": false,
    "pycharm": {
     "name": "#%%\n"
    }
   }
  },
  {
   "cell_type": "code",
   "execution_count": null,
   "outputs": [],
   "source": [],
   "metadata": {
    "collapsed": false,
    "pycharm": {
     "name": "#%%\n"
    }
   }
  }
 ],
 "metadata": {
  "interpreter": {
   "hash": "bf055968345892104d9e952d321bf2765e76e1b5eafb1a9a44257d15f74a6dc7"
  },
  "kernelspec": {
   "display_name": "Python 3 (ipykernel)",
   "language": "python",
   "name": "python3"
  },
  "language_info": {
   "codemirror_mode": {
    "name": "ipython",
    "version": 3
   },
   "file_extension": ".py",
   "mimetype": "text/x-python",
   "name": "python",
   "nbconvert_exporter": "python",
   "pygments_lexer": "ipython3",
   "version": "3.9.0"
  }
 },
 "nbformat": 4,
 "nbformat_minor": 4
}